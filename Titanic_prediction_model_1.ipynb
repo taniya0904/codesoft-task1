{
 "cells": [
  {
   "cell_type": "markdown",
   "id": "dec856a1",
   "metadata": {},
   "source": [
    "# Implementation of Logistic Regression on 'Titanic Dataset' from kaggle\n",
    "We all are aware about the history of Titanic being sinked and making it one of the tragic incidence in the past.\n",
    "\n",
    "Here, with the help of the given dataset we would try to find the prediction wheather a person onboard Titanic had survived or not.\n",
    "\n",
    "This dataset have many factors like age, Passenger class, gender to check for the survival.\n",
    "\n",
    "Here in this dataset, we are having semicleaned data which is fetched through kaggle.\n",
    "\n",
    "The survival prediction here would be performed with the implementation of Logical Regression which is a robust method to give prediction for binary input.\n",
    "\n",
    "Here the logical regression isused as it is one of the best and reliable model for predicting the outcome out of two choices.\n",
    "\n",
    "Here we need to predict whether a passenger survived or not thus Logical regression is a basic choice for this prediction."
   ]
  },
  {
   "cell_type": "markdown",
   "id": "a247ca8a",
   "metadata": {},
   "source": [
    "# Import Libraries and fetching Data "
   ]
  },
  {
   "cell_type": "markdown",
   "id": "a8f29563",
   "metadata": {},
   "source": [
    "To get started with the predicting model we will import some libraries"
   ]
  },
  {
   "cell_type": "code",
   "execution_count": 1,
   "id": "69c2cf5d",
   "metadata": {},
   "outputs": [],
   "source": [
    "import pandas as pd\n",
    "import numpy as np\n",
    "import seaborn as sns\n",
    "import matplotlib.pyplot as plt\n",
    "import math\n",
    "%matplotlib inline"
   ]
  },
  {
   "cell_type": "markdown",
   "id": "af534af8",
   "metadata": {},
   "source": [
    "# Fetch data from the csv sheet"
   ]
  },
  {
   "cell_type": "markdown",
   "id": "a42ebd04",
   "metadata": {},
   "source": [
    "The csv sheet for dataset used here is fetched from global community 'kaggle'"
   ]
  },
  {
   "cell_type": "code",
   "execution_count": 2,
   "id": "e9967d49",
   "metadata": {},
   "outputs": [
    {
     "data": {
      "text/html": [
       "<div>\n",
       "<style scoped>\n",
       "    .dataframe tbody tr th:only-of-type {\n",
       "        vertical-align: middle;\n",
       "    }\n",
       "\n",
       "    .dataframe tbody tr th {\n",
       "        vertical-align: top;\n",
       "    }\n",
       "\n",
       "    .dataframe thead th {\n",
       "        text-align: right;\n",
       "    }\n",
       "</style>\n",
       "<table border=\"1\" class=\"dataframe\">\n",
       "  <thead>\n",
       "    <tr style=\"text-align: right;\">\n",
       "      <th></th>\n",
       "      <th>PassengerId</th>\n",
       "      <th>Survived</th>\n",
       "      <th>Pclass</th>\n",
       "      <th>Name</th>\n",
       "      <th>Sex</th>\n",
       "      <th>Age</th>\n",
       "      <th>SibSp</th>\n",
       "      <th>Parch</th>\n",
       "      <th>Ticket</th>\n",
       "      <th>Fare</th>\n",
       "      <th>Cabin</th>\n",
       "      <th>Embarked</th>\n",
       "    </tr>\n",
       "  </thead>\n",
       "  <tbody>\n",
       "    <tr>\n",
       "      <th>0</th>\n",
       "      <td>892</td>\n",
       "      <td>0</td>\n",
       "      <td>3</td>\n",
       "      <td>Kelly, Mr. James</td>\n",
       "      <td>male</td>\n",
       "      <td>34.5</td>\n",
       "      <td>0</td>\n",
       "      <td>0</td>\n",
       "      <td>330911</td>\n",
       "      <td>7.8292</td>\n",
       "      <td>NaN</td>\n",
       "      <td>Q</td>\n",
       "    </tr>\n",
       "    <tr>\n",
       "      <th>1</th>\n",
       "      <td>893</td>\n",
       "      <td>1</td>\n",
       "      <td>3</td>\n",
       "      <td>Wilkes, Mrs. James (Ellen Needs)</td>\n",
       "      <td>female</td>\n",
       "      <td>47.0</td>\n",
       "      <td>1</td>\n",
       "      <td>0</td>\n",
       "      <td>363272</td>\n",
       "      <td>7.0000</td>\n",
       "      <td>NaN</td>\n",
       "      <td>S</td>\n",
       "    </tr>\n",
       "    <tr>\n",
       "      <th>2</th>\n",
       "      <td>894</td>\n",
       "      <td>0</td>\n",
       "      <td>2</td>\n",
       "      <td>Myles, Mr. Thomas Francis</td>\n",
       "      <td>male</td>\n",
       "      <td>62.0</td>\n",
       "      <td>0</td>\n",
       "      <td>0</td>\n",
       "      <td>240276</td>\n",
       "      <td>9.6875</td>\n",
       "      <td>NaN</td>\n",
       "      <td>Q</td>\n",
       "    </tr>\n",
       "    <tr>\n",
       "      <th>3</th>\n",
       "      <td>895</td>\n",
       "      <td>0</td>\n",
       "      <td>3</td>\n",
       "      <td>Wirz, Mr. Albert</td>\n",
       "      <td>male</td>\n",
       "      <td>27.0</td>\n",
       "      <td>0</td>\n",
       "      <td>0</td>\n",
       "      <td>315154</td>\n",
       "      <td>8.6625</td>\n",
       "      <td>NaN</td>\n",
       "      <td>S</td>\n",
       "    </tr>\n",
       "    <tr>\n",
       "      <th>4</th>\n",
       "      <td>896</td>\n",
       "      <td>1</td>\n",
       "      <td>3</td>\n",
       "      <td>Hirvonen, Mrs. Alexander (Helga E Lindqvist)</td>\n",
       "      <td>female</td>\n",
       "      <td>22.0</td>\n",
       "      <td>1</td>\n",
       "      <td>1</td>\n",
       "      <td>3101298</td>\n",
       "      <td>12.2875</td>\n",
       "      <td>NaN</td>\n",
       "      <td>S</td>\n",
       "    </tr>\n",
       "  </tbody>\n",
       "</table>\n",
       "</div>"
      ],
      "text/plain": [
       "   PassengerId  Survived  Pclass  \\\n",
       "0          892         0       3   \n",
       "1          893         1       3   \n",
       "2          894         0       2   \n",
       "3          895         0       3   \n",
       "4          896         1       3   \n",
       "\n",
       "                                           Name     Sex   Age  SibSp  Parch  \\\n",
       "0                              Kelly, Mr. James    male  34.5      0      0   \n",
       "1              Wilkes, Mrs. James (Ellen Needs)  female  47.0      1      0   \n",
       "2                     Myles, Mr. Thomas Francis    male  62.0      0      0   \n",
       "3                              Wirz, Mr. Albert    male  27.0      0      0   \n",
       "4  Hirvonen, Mrs. Alexander (Helga E Lindqvist)  female  22.0      1      1   \n",
       "\n",
       "    Ticket     Fare Cabin Embarked  \n",
       "0   330911   7.8292   NaN        Q  \n",
       "1   363272   7.0000   NaN        S  \n",
       "2   240276   9.6875   NaN        Q  \n",
       "3   315154   8.6625   NaN        S  \n",
       "4  3101298  12.2875   NaN        S  "
      ]
     },
     "execution_count": 2,
     "metadata": {},
     "output_type": "execute_result"
    }
   ],
   "source": [
    "titanic= pd.read_csv('tested.csv')\n",
    "titanic.head()"
   ]
  },
  {
   "cell_type": "markdown",
   "id": "2c1c2914",
   "metadata": {},
   "source": [
    "# Analyse the titanic data for predicting survival of passengers"
   ]
  },
  {
   "cell_type": "code",
   "execution_count": 3,
   "id": "1484326c",
   "metadata": {},
   "outputs": [
    {
     "data": {
      "text/plain": [
       "(418, 12)"
      ]
     },
     "execution_count": 3,
     "metadata": {},
     "output_type": "execute_result"
    }
   ],
   "source": [
    "titanic.shape"
   ]
  },
  {
   "cell_type": "markdown",
   "id": "48703410",
   "metadata": {},
   "source": [
    "here we used .shape to get information about the size of rows and column which depict for how many people we are having the dataset and how many factors we got to predict the survival.\n",
    "\n",
    "We get to know that the information is given for 418 people and there are 12 distinguishing factors present."
   ]
  },
  {
   "cell_type": "markdown",
   "id": "eca0315c",
   "metadata": {},
   "source": [
    "# Visualising the dataset\n",
    "Here we are using seaborn plots for visualising the survival over different aspects.\n",
    "\n",
    "Also we are visualising the survived and deseased people"
   ]
  },
  {
   "cell_type": "code",
   "execution_count": 4,
   "id": "b92611aa",
   "metadata": {},
   "outputs": [
    {
     "data": {
      "text/plain": [
       "<Axes: xlabel='Survived', ylabel='count'>"
      ]
     },
     "execution_count": 4,
     "metadata": {},
     "output_type": "execute_result"
    },
    {
     "data": {
      "image/png": "[encoded data removed]",
      "text/plain": [
       "<Figure size 640x480 with 1 Axes>"
      ]
     },
     "metadata": {},
     "output_type": "display_data"
    }
   ],
   "source": [
    "sns.countplot(x='Survived',data=titanic)"
   ]
  },
  {
   "cell_type": "markdown",
   "id": "8ddb3ebd",
   "metadata": {},
   "source": [
    "This is graphical representation of people who survived (represented by 1) and not able to survived ( represented by 0)\n",
    "\n",
    "Here we can see that 63% people were not able to survived and lost thier life."
   ]
  },
  {
   "cell_type": "code",
   "execution_count": 5,
   "id": "4ffa593b",
   "metadata": {},
   "outputs": [
    {
     "data": {
      "text/plain": [
       "0    266\n",
       "1    152\n",
       "Name: Survived, dtype: int64"
      ]
     },
     "execution_count": 5,
     "metadata": {},
     "output_type": "execute_result"
    }
   ],
   "source": [
    "titanic['Survived'].value_counts()"
   ]
  },
  {
   "cell_type": "markdown",
   "id": "43e45245",
   "metadata": {},
   "source": [
    "The total number of passengers are 418 out of which number of survivals are 152 and 266 casualitites.\n",
    "\n",
    "This depicts that there were not even 40 percent of people who survived the incidence."
   ]
  },
  {
   "cell_type": "code",
   "execution_count": 6,
   "id": "e81cc922",
   "metadata": {},
   "outputs": [
    {
     "data": {
      "text/plain": [
       "<Axes: xlabel='Survived', ylabel='count'>"
      ]
     },
     "execution_count": 6,
     "metadata": {},
     "output_type": "execute_result"
    },
    {
     "data": {
      "image/png": "[encoded data removed]",
      "text/plain": [
       "<Figure size 640x480 with 1 Axes>"
      ]
     },
     "metadata": {},
     "output_type": "display_data"
    }
   ],
   "source": [
    "sns.countplot(x='Survived', hue='Sex', data=titanic)"
   ]
  },
  {
   "cell_type": "markdown",
   "id": "1619bba3",
   "metadata": {},
   "source": [
    "This graph is a visual representation which indicates the number of male and female who got survived and was not able to survive in the whole incoidence\n",
    "\n",
    "We can see that all the casualties are from male division which comes out to conclusion that all the women onboard were protected and saved. \n",
    "\n",
    "This incidence tells that the female survives during the evacuation process as females and minors are evacuated first.\n"
   ]
  },
  {
   "cell_type": "markdown",
   "id": "4ee55cb3",
   "metadata": {},
   "source": [
    "# Graphical representation of distinguishing people on the basics of their class and Age "
   ]
  },
  {
   "cell_type": "code",
   "execution_count": 7,
   "id": "b0b2acee",
   "metadata": {
    "scrolled": true
   },
   "outputs": [
    {
     "data": {
      "text/plain": [
       "<Axes: xlabel='Survived', ylabel='count'>"
      ]
     },
     "execution_count": 7,
     "metadata": {},
     "output_type": "execute_result"
    },
    {
     "data": {
      "image/png": "[encoded data removed]",
      "text/plain": [
       "<Figure size 640x480 with 1 Axes>"
      ]
     },
     "metadata": {},
     "output_type": "display_data"
    }
   ],
   "source": [
    "sns.countplot(x='Survived', hue='Pclass', data=titanic)"
   ]
  },
  {
   "cell_type": "markdown",
   "id": "884850b6",
   "metadata": {},
   "source": [
    "### Here with the data we can see that there were three classes in which passengers were divided .\n",
    "These 3 classes are divided in accordance to the fair they paid for the cruise\n",
    "There are three class in which people were able to choose their stays in titanic This graph gives a visualisation of people from each classes who survived and were not able to survive.\n",
    "\n",
    "From this visualisation we can see that the most survived passengers were from Class 1 which is obvious as they paid more and were more important\n",
    "\n",
    "Also this depicts that most of the died passengers belonged from the class 3."
   ]
  },
  {
   "cell_type": "markdown",
   "id": "fd83f0b1",
   "metadata": {},
   "source": [
    "### analysing the age group"
   ]
  },
  {
   "cell_type": "code",
   "execution_count": 8,
   "id": "d599a3aa",
   "metadata": {},
   "outputs": [
    {
     "data": {
      "text/plain": [
       "<seaborn.axisgrid.FacetGrid at 0x23cadd00b10>"
      ]
     },
     "execution_count": 8,
     "metadata": {},
     "output_type": "execute_result"
    },
    {
     "data": {
      "image/png": "[encoded data removed]",
      "text/plain": [
       "<Figure size 500x500 with 1 Axes>"
      ]
     },
     "metadata": {},
     "output_type": "display_data"
    }
   ],
   "source": [
    "sns.displot(titanic['Age'].dropna())"
   ]
  },
  {
   "cell_type": "markdown",
   "id": "54dffba3",
   "metadata": {},
   "source": [
    "Here we can see that the major people onboard belonged to the age group of 20 to 30 years.\n",
    "\n",
    "This is kind of obvious as this titanic cruise was supposed to one of the first adventurous voyage attracting a huge number of young people looking for exciting journey."
   ]
  },
  {
   "cell_type": "code",
   "execution_count": 9,
   "id": "65f98a64",
   "metadata": {},
   "outputs": [
    {
     "data": {
      "text/plain": [
       "<Axes: xlabel='SibSp', ylabel='count'>"
      ]
     },
     "execution_count": 9,
     "metadata": {},
     "output_type": "execute_result"
    },
    {
     "data": {
      "image/png": "[encoded data removed]",
      "text/plain": [
       "<Figure size 640x480 with 1 Axes>"
      ]
     },
     "metadata": {},
     "output_type": "display_data"
    }
   ],
   "source": [
    "sns.countplot(x='SibSp',data=titanic)"
   ]
  },
  {
   "cell_type": "markdown",
   "id": "013411b2",
   "metadata": {},
   "source": [
    "The visualisation of 'SibSp' column depits the people who were on the titanic with their sibling or with their spouse\n",
    "\n",
    "This directly depicts the people who are on the family trip or for a adventurous tour with their partner or were on the titanic for some adventure on their own.\n",
    "\n",
    "This indicated that the major number of people around 300 were not having any sibling or with spouse on the trip."
   ]
  },
  {
   "cell_type": "markdown",
   "id": "6459195d",
   "metadata": {},
   "source": [
    "### Fare distribution analysis"
   ]
  },
  {
   "cell_type": "code",
   "execution_count": 10,
   "id": "8b3c7e1a",
   "metadata": {},
   "outputs": [
    {
     "data": {
      "text/plain": [
       "<Axes: ylabel='Frequency'>"
      ]
     },
     "execution_count": 10,
     "metadata": {},
     "output_type": "execute_result"
    },
    {
     "data": {
      "image/png": "[encoded data removed]",
      "text/plain": [
       "<Figure size 1000x500 with 1 Axes>"
      ]
     },
     "metadata": {},
     "output_type": "display_data"
    }
   ],
   "source": [
    "titanic['Fare'].plot.hist(bins=20, figsize=(10,5))\n"
   ]
  },
  {
   "cell_type": "markdown",
   "id": "17f36e39",
   "metadata": {},
   "source": [
    "This is the representation of people with the fare range "
   ]
  },
  {
   "cell_type": "markdown",
   "id": "3700081a",
   "metadata": {},
   "source": [
    "clearly, the upper class paying high fare was very low as compare to the people paying less fair i.e belonging to the economical class.\n",
    "\n",
    "Here, with this plot we can conclude that most number of passengers were travelling with the minimum fare range which was less than $100.\n",
    "\n",
    "Also there were passengers who had spent a lot to be on that trip.\n",
    "\n",
    "This shows that there were very less people belonging to Class 1."
   ]
  },
  {
   "cell_type": "markdown",
   "id": "cc7c75a4",
   "metadata": {},
   "source": [
    "# Analysing and modifying data for prediction"
   ]
  },
  {
   "cell_type": "code",
   "execution_count": 11,
   "id": "d5bccf31",
   "metadata": {},
   "outputs": [
    {
     "data": {
      "text/plain": [
       "PassengerId      0\n",
       "Survived         0\n",
       "Pclass           0\n",
       "Name             0\n",
       "Sex              0\n",
       "Age             86\n",
       "SibSp            0\n",
       "Parch            0\n",
       "Ticket           0\n",
       "Fare             1\n",
       "Cabin          327\n",
       "Embarked         0\n",
       "dtype: int64"
      ]
     },
     "execution_count": 11,
     "metadata": {},
     "output_type": "execute_result"
    }
   ],
   "source": [
    "titanic.isnull().sum()"
   ]
  },
  {
   "cell_type": "markdown",
   "id": "40670068",
   "metadata": {},
   "source": [
    "Here 'age' and 'cabin' have the most null values so we will remove these as these are of no use for the training and testing of model"
   ]
  },
  {
   "cell_type": "code",
   "execution_count": 12,
   "id": "4db6155e",
   "metadata": {},
   "outputs": [
    {
     "data": {
      "text/plain": [
       "<Axes: >"
      ]
     },
     "execution_count": 12,
     "metadata": {},
     "output_type": "execute_result"
    },
    {
     "data": {
      "image/png": "[encoded data removed]",
      "text/plain": [
       "<Figure size 640x480 with 2 Axes>"
      ]
     },
     "metadata": {},
     "output_type": "display_data"
    }
   ],
   "source": [
    "sns.heatmap(titanic.isnull())"
   ]
  },
  {
   "cell_type": "markdown",
   "id": "a6dff6b4",
   "metadata": {},
   "source": [
    "Representing null spaces for clear visualization and understanding.\n",
    "\n",
    "We can see that more than 20 percent of age data is missing and roughly 77 percent is missing in cabin rows."
   ]
  },
  {
   "cell_type": "markdown",
   "id": "6d7e5b18",
   "metadata": {},
   "source": [
    "## Data cleaning and dropping"
   ]
  },
  {
   "cell_type": "markdown",
   "id": "2062f670",
   "metadata": {},
   "source": [
    "####  As we can see the 'Age' and 'Cabin' have null values so we will drop these out of the data \n",
    "\n",
    "##### We can simply drop the row by using '.drop()' method"
   ]
  },
  {
   "cell_type": "code",
   "execution_count": 13,
   "id": "ef53c311",
   "metadata": {},
   "outputs": [],
   "source": [
    "titanic.drop('Cabin', axis=1, inplace=True)\n",
    "titanic.drop('Age', axis=1, inplace=True)"
   ]
  },
  {
   "cell_type": "code",
   "execution_count": 14,
   "id": "645737e3",
   "metadata": {},
   "outputs": [
    {
     "data": {
      "text/html": [
       "<div>\n",
       "<style scoped>\n",
       "    .dataframe tbody tr th:only-of-type {\n",
       "        vertical-align: middle;\n",
       "    }\n",
       "\n",
       "    .dataframe tbody tr th {\n",
       "        vertical-align: top;\n",
       "    }\n",
       "\n",
       "    .dataframe thead th {\n",
       "        text-align: right;\n",
       "    }\n",
       "</style>\n",
       "<table border=\"1\" class=\"dataframe\">\n",
       "  <thead>\n",
       "    <tr style=\"text-align: right;\">\n",
       "      <th></th>\n",
       "      <th>PassengerId</th>\n",
       "      <th>Survived</th>\n",
       "      <th>Pclass</th>\n",
       "      <th>Name</th>\n",
       "      <th>Sex</th>\n",
       "      <th>SibSp</th>\n",
       "      <th>Parch</th>\n",
       "      <th>Ticket</th>\n",
       "      <th>Fare</th>\n",
       "      <th>Embarked</th>\n",
       "    </tr>\n",
       "  </thead>\n",
       "  <tbody>\n",
       "    <tr>\n",
       "      <th>0</th>\n",
       "      <td>892</td>\n",
       "      <td>0</td>\n",
       "      <td>3</td>\n",
       "      <td>Kelly, Mr. James</td>\n",
       "      <td>male</td>\n",
       "      <td>0</td>\n",
       "      <td>0</td>\n",
       "      <td>330911</td>\n",
       "      <td>7.8292</td>\n",
       "      <td>Q</td>\n",
       "    </tr>\n",
       "    <tr>\n",
       "      <th>1</th>\n",
       "      <td>893</td>\n",
       "      <td>1</td>\n",
       "      <td>3</td>\n",
       "      <td>Wilkes, Mrs. James (Ellen Needs)</td>\n",
       "      <td>female</td>\n",
       "      <td>1</td>\n",
       "      <td>0</td>\n",
       "      <td>363272</td>\n",
       "      <td>7.0000</td>\n",
       "      <td>S</td>\n",
       "    </tr>\n",
       "    <tr>\n",
       "      <th>2</th>\n",
       "      <td>894</td>\n",
       "      <td>0</td>\n",
       "      <td>2</td>\n",
       "      <td>Myles, Mr. Thomas Francis</td>\n",
       "      <td>male</td>\n",
       "      <td>0</td>\n",
       "      <td>0</td>\n",
       "      <td>240276</td>\n",
       "      <td>9.6875</td>\n",
       "      <td>Q</td>\n",
       "    </tr>\n",
       "    <tr>\n",
       "      <th>3</th>\n",
       "      <td>895</td>\n",
       "      <td>0</td>\n",
       "      <td>3</td>\n",
       "      <td>Wirz, Mr. Albert</td>\n",
       "      <td>male</td>\n",
       "      <td>0</td>\n",
       "      <td>0</td>\n",
       "      <td>315154</td>\n",
       "      <td>8.6625</td>\n",
       "      <td>S</td>\n",
       "    </tr>\n",
       "    <tr>\n",
       "      <th>4</th>\n",
       "      <td>896</td>\n",
       "      <td>1</td>\n",
       "      <td>3</td>\n",
       "      <td>Hirvonen, Mrs. Alexander (Helga E Lindqvist)</td>\n",
       "      <td>female</td>\n",
       "      <td>1</td>\n",
       "      <td>1</td>\n",
       "      <td>3101298</td>\n",
       "      <td>12.2875</td>\n",
       "      <td>S</td>\n",
       "    </tr>\n",
       "  </tbody>\n",
       "</table>\n",
       "</div>"
      ],
      "text/plain": [
       "   PassengerId  Survived  Pclass  \\\n",
       "0          892         0       3   \n",
       "1          893         1       3   \n",
       "2          894         0       2   \n",
       "3          895         0       3   \n",
       "4          896         1       3   \n",
       "\n",
       "                                           Name     Sex  SibSp  Parch  \\\n",
       "0                              Kelly, Mr. James    male      0      0   \n",
       "1              Wilkes, Mrs. James (Ellen Needs)  female      1      0   \n",
       "2                     Myles, Mr. Thomas Francis    male      0      0   \n",
       "3                              Wirz, Mr. Albert    male      0      0   \n",
       "4  Hirvonen, Mrs. Alexander (Helga E Lindqvist)  female      1      1   \n",
       "\n",
       "    Ticket     Fare Embarked  \n",
       "0   330911   7.8292        Q  \n",
       "1   363272   7.0000        S  \n",
       "2   240276   9.6875        Q  \n",
       "3   315154   8.6625        S  \n",
       "4  3101298  12.2875        S  "
      ]
     },
     "execution_count": 14,
     "metadata": {},
     "output_type": "execute_result"
    }
   ],
   "source": [
    "titanic.head(5)"
   ]
  },
  {
   "cell_type": "markdown",
   "id": "ac0f25c3",
   "metadata": {},
   "source": [
    "#### We intend to check the heat map again to make sure that our function worked successfully\n",
    "This heat map shows the null values for each specific column"
   ]
  },
  {
   "cell_type": "code",
   "execution_count": 15,
   "id": "2460621d",
   "metadata": {},
   "outputs": [
    {
     "data": {
      "text/plain": [
       "<Axes: >"
      ]
     },
     "execution_count": 15,
     "metadata": {},
     "output_type": "execute_result"
    },
    {
     "data": {
      "image/png": "[encoded data removed]",
      "text/plain": [
       "<Figure size 640x480 with 2 Axes>"
      ]
     },
     "metadata": {},
     "output_type": "display_data"
    }
   ],
   "source": [
    "sns.heatmap(titanic.isnull())"
   ]
  },
  {
   "cell_type": "markdown",
   "id": "67e79395",
   "metadata": {},
   "source": [
    "We can see that our function is working properly and age and cabin rows are removed from the dataset so that we can easily train the model "
   ]
  },
  {
   "cell_type": "markdown",
   "id": "46a761f9",
   "metadata": {},
   "source": [
    "### Converting and Clarifyig the factors in terms of (1,0)"
   ]
  },
  {
   "cell_type": "markdown",
   "id": "50612a12",
   "metadata": {},
   "source": [
    "####  As we know there are only female survivors and no male survived so we need to clasify the data on the basis of 'Sex' , so transform the sex into (1,0) where 1 means male and 0 means female "
   ]
  },
  {
   "cell_type": "code",
   "execution_count": 16,
   "id": "cc961cd2",
   "metadata": {},
   "outputs": [],
   "source": [
    "from sklearn.preprocessing import LabelEncoder\n",
    "labelencoder= LabelEncoder()\n",
    "titanic['Sex']= labelencoder.fit_transform(titanic['Sex'])"
   ]
  },
  {
   "cell_type": "markdown",
   "id": "55181251",
   "metadata": {},
   "source": [
    " importing labelencounter for tranforming sex (male and female) into (1,0) "
   ]
  },
  {
   "cell_type": "code",
   "execution_count": 17,
   "id": "c3b7380f",
   "metadata": {},
   "outputs": [
    {
     "data": {
      "text/html": [
       "<div>\n",
       "<style scoped>\n",
       "    .dataframe tbody tr th:only-of-type {\n",
       "        vertical-align: middle;\n",
       "    }\n",
       "\n",
       "    .dataframe tbody tr th {\n",
       "        vertical-align: top;\n",
       "    }\n",
       "\n",
       "    .dataframe thead th {\n",
       "        text-align: right;\n",
       "    }\n",
       "</style>\n",
       "<table border=\"1\" class=\"dataframe\">\n",
       "  <thead>\n",
       "    <tr style=\"text-align: right;\">\n",
       "      <th></th>\n",
       "      <th>PassengerId</th>\n",
       "      <th>Survived</th>\n",
       "      <th>Pclass</th>\n",
       "      <th>Name</th>\n",
       "      <th>Sex</th>\n",
       "      <th>SibSp</th>\n",
       "      <th>Parch</th>\n",
       "      <th>Ticket</th>\n",
       "      <th>Fare</th>\n",
       "      <th>Embarked</th>\n",
       "    </tr>\n",
       "  </thead>\n",
       "  <tbody>\n",
       "    <tr>\n",
       "      <th>0</th>\n",
       "      <td>892</td>\n",
       "      <td>0</td>\n",
       "      <td>3</td>\n",
       "      <td>Kelly, Mr. James</td>\n",
       "      <td>1</td>\n",
       "      <td>0</td>\n",
       "      <td>0</td>\n",
       "      <td>330911</td>\n",
       "      <td>7.8292</td>\n",
       "      <td>Q</td>\n",
       "    </tr>\n",
       "    <tr>\n",
       "      <th>1</th>\n",
       "      <td>893</td>\n",
       "      <td>1</td>\n",
       "      <td>3</td>\n",
       "      <td>Wilkes, Mrs. James (Ellen Needs)</td>\n",
       "      <td>0</td>\n",
       "      <td>1</td>\n",
       "      <td>0</td>\n",
       "      <td>363272</td>\n",
       "      <td>7.0000</td>\n",
       "      <td>S</td>\n",
       "    </tr>\n",
       "    <tr>\n",
       "      <th>2</th>\n",
       "      <td>894</td>\n",
       "      <td>0</td>\n",
       "      <td>2</td>\n",
       "      <td>Myles, Mr. Thomas Francis</td>\n",
       "      <td>1</td>\n",
       "      <td>0</td>\n",
       "      <td>0</td>\n",
       "      <td>240276</td>\n",
       "      <td>9.6875</td>\n",
       "      <td>Q</td>\n",
       "    </tr>\n",
       "    <tr>\n",
       "      <th>3</th>\n",
       "      <td>895</td>\n",
       "      <td>0</td>\n",
       "      <td>3</td>\n",
       "      <td>Wirz, Mr. Albert</td>\n",
       "      <td>1</td>\n",
       "      <td>0</td>\n",
       "      <td>0</td>\n",
       "      <td>315154</td>\n",
       "      <td>8.6625</td>\n",
       "      <td>S</td>\n",
       "    </tr>\n",
       "    <tr>\n",
       "      <th>4</th>\n",
       "      <td>896</td>\n",
       "      <td>1</td>\n",
       "      <td>3</td>\n",
       "      <td>Hirvonen, Mrs. Alexander (Helga E Lindqvist)</td>\n",
       "      <td>0</td>\n",
       "      <td>1</td>\n",
       "      <td>1</td>\n",
       "      <td>3101298</td>\n",
       "      <td>12.2875</td>\n",
       "      <td>S</td>\n",
       "    </tr>\n",
       "  </tbody>\n",
       "</table>\n",
       "</div>"
      ],
      "text/plain": [
       "   PassengerId  Survived  Pclass  \\\n",
       "0          892         0       3   \n",
       "1          893         1       3   \n",
       "2          894         0       2   \n",
       "3          895         0       3   \n",
       "4          896         1       3   \n",
       "\n",
       "                                           Name  Sex  SibSp  Parch   Ticket  \\\n",
       "0                              Kelly, Mr. James    1      0      0   330911   \n",
       "1              Wilkes, Mrs. James (Ellen Needs)    0      1      0   363272   \n",
       "2                     Myles, Mr. Thomas Francis    1      0      0   240276   \n",
       "3                              Wirz, Mr. Albert    1      0      0   315154   \n",
       "4  Hirvonen, Mrs. Alexander (Helga E Lindqvist)    0      1      1  3101298   \n",
       "\n",
       "      Fare Embarked  \n",
       "0   7.8292        Q  \n",
       "1   7.0000        S  \n",
       "2   9.6875        Q  \n",
       "3   8.6625        S  \n",
       "4  12.2875        S  "
      ]
     },
     "execution_count": 17,
     "metadata": {},
     "output_type": "execute_result"
    }
   ],
   "source": [
    "titanic.head()"
   ]
  },
  {
   "cell_type": "markdown",
   "id": "bcf426fc",
   "metadata": {},
   "source": [
    "# Building and training a Logistic Regressing Model\n",
    "As for regression we need to first train and test the data which makes it necessary to divide the data for training and testing purpose.\n",
    "\n",
    "the procedure further goes to train for getting the accuracy which is acceptable."
   ]
  },
  {
   "cell_type": "markdown",
   "id": "b9d15aff",
   "metadata": {},
   "source": [
    "##  Training the model "
   ]
  },
  {
   "cell_type": "markdown",
   "id": "269980b0",
   "metadata": {},
   "source": [
    "Training is done by working out the model on the given data set for a specific proportion of data and then testing the model for accurate outcomes on the remainning data.\n",
    "\n",
    "We can train model on any amount of data but for general and reliable models we tend to maximise tge training data\n",
    "\n"
   ]
  },
  {
   "cell_type": "code",
   "execution_count": 18,
   "id": "92eaa77f",
   "metadata": {},
   "outputs": [],
   "source": [
    "X=titanic[['Pclass', 'Sex']]\n",
    "Y= titanic['Survived']"
   ]
  },
  {
   "cell_type": "markdown",
   "id": "a74dd9e7",
   "metadata": {},
   "source": [
    "as we wish to predict the survival only through passenger class and their sex column"
   ]
  },
  {
   "cell_type": "markdown",
   "id": "b731bf1e",
   "metadata": {},
   "source": [
    "####  Slpiting the data for training and testing "
   ]
  },
  {
   "cell_type": "code",
   "execution_count": 19,
   "id": "b9e6b558",
   "metadata": {},
   "outputs": [],
   "source": [
    "from sklearn.model_selection import train_test_split\n",
    "X_train, X_test, Y_train, Y_test= train_test_split(X,Y, test_size= 0.3, random_state= 0)"
   ]
  },
  {
   "cell_type": "markdown",
   "id": "ba33cbf9",
   "metadata": {},
   "source": [
    "We can split the data in any ratio for testing and training.\n",
    "\n",
    "Here are used 30 percent of the data for testing and the remaining for training purpose i.e. 70 percent data is used as training data.\n",
    "\n",
    "This means the data would be trained by this 70% and would be tested on the remaining 30% dataset."
   ]
  },
  {
   "cell_type": "markdown",
   "id": "51db9fad",
   "metadata": {},
   "source": [
    "## Logistic Regression for training the model\n"
   ]
  },
  {
   "cell_type": "markdown",
   "id": "a0d0cf81",
   "metadata": {},
   "source": [
    "###### Here we used logistic regression to train the model as it is robust with (0,1)(binary response).\n",
    "Here we used the spliited set of test and training for training the model."
   ]
  },
  {
   "cell_type": "code",
   "execution_count": 20,
   "id": "8aed92ae",
   "metadata": {},
   "outputs": [
    {
     "data": {
      "text/html": [
       "<style>#sk-container-id-1 {color: black;}#sk-container-id-1 pre{padding: 0;}#sk-container-id-1 div.sk-toggleable {background-color: white;}#sk-container-id-1 label.sk-toggleable__label {cursor: pointer;display: block;width: 100%;margin-bottom: 0;padding: 0.3em;box-sizing: border-box;text-align: center;}#sk-container-id-1 label.sk-toggleable__label-arrow:before {content: \"▸\";float: left;margin-right: 0.25em;color: #696969;}#sk-container-id-1 label.sk-toggleable__label-arrow:hover:before {color: black;}#sk-container-id-1 div.sk-estimator:hover label.sk-toggleable__label-arrow:before {color: black;}#sk-container-id-1 div.sk-toggleable__content {max-height: 0;max-width: 0;overflow: hidden;text-align: left;background-color: #f0f8ff;}#sk-container-id-1 div.sk-toggleable__content pre {margin: 0.2em;color: black;border-radius: 0.25em;background-color: #f0f8ff;}#sk-container-id-1 input.sk-toggleable__control:checked~div.sk-toggleable__content {max-height: 200px;max-width: 100%;overflow: auto;}#sk-container-id-1 input.sk-toggleable__control:checked~label.sk-toggleable__label-arrow:before {content: \"▾\";}#sk-container-id-1 div.sk-estimator input.sk-toggleable__control:checked~label.sk-toggleable__label {background-color: #d4ebff;}#sk-container-id-1 div.sk-label input.sk-toggleable__control:checked~label.sk-toggleable__label {background-color: #d4ebff;}#sk-container-id-1 input.sk-hidden--visually {border: 0;clip: rect(1px 1px 1px 1px);clip: rect(1px, 1px, 1px, 1px);height: 1px;margin: -1px;overflow: hidden;padding: 0;position: absolute;width: 1px;}#sk-container-id-1 div.sk-estimator {font-family: monospace;background-color: #f0f8ff;border: 1px dotted black;border-radius: 0.25em;box-sizing: border-box;margin-bottom: 0.5em;}#sk-container-id-1 div.sk-estimator:hover {background-color: #d4ebff;}#sk-container-id-1 div.sk-parallel-item::after {content: \"\";width: 100%;border-bottom: 1px solid gray;flex-grow: 1;}#sk-container-id-1 div.sk-label:hover label.sk-toggleable__label {background-color: #d4ebff;}#sk-container-id-1 div.sk-serial::before {content: \"\";position: absolute;border-left: 1px solid gray;box-sizing: border-box;top: 0;bottom: 0;left: 50%;z-index: 0;}#sk-container-id-1 div.sk-serial {display: flex;flex-direction: column;align-items: center;background-color: white;padding-right: 0.2em;padding-left: 0.2em;position: relative;}#sk-container-id-1 div.sk-item {position: relative;z-index: 1;}#sk-container-id-1 div.sk-parallel {display: flex;align-items: stretch;justify-content: center;background-color: white;position: relative;}#sk-container-id-1 div.sk-item::before, #sk-container-id-1 div.sk-parallel-item::before {content: \"\";position: absolute;border-left: 1px solid gray;box-sizing: border-box;top: 0;bottom: 0;left: 50%;z-index: -1;}#sk-container-id-1 div.sk-parallel-item {display: flex;flex-direction: column;z-index: 1;position: relative;background-color: white;}#sk-container-id-1 div.sk-parallel-item:first-child::after {align-self: flex-end;width: 50%;}#sk-container-id-1 div.sk-parallel-item:last-child::after {align-self: flex-start;width: 50%;}#sk-container-id-1 div.sk-parallel-item:only-child::after {width: 0;}#sk-container-id-1 div.sk-dashed-wrapped {border: 1px dashed gray;margin: 0 0.4em 0.5em 0.4em;box-sizing: border-box;padding-bottom: 0.4em;background-color: white;}#sk-container-id-1 div.sk-label label {font-family: monospace;font-weight: bold;display: inline-block;line-height: 1.2em;}#sk-container-id-1 div.sk-label-container {text-align: center;}#sk-container-id-1 div.sk-container {/* jupyter's `normalize.less` sets `[hidden] { display: none; }` but bootstrap.min.css set `[hidden] { display: none !important; }` so we also need the `!important` here to be able to override the default hidden behavior on the sphinx rendered scikit-learn.org. See: https://github.com/scikit-learn/scikit-learn/issues/21755 */display: inline-block !important;position: relative;}#sk-container-id-1 div.sk-text-repr-fallback {display: none;}</style><div id=\"sk-container-id-1\" class=\"sk-top-container\"><div class=\"sk-text-repr-fallback\"><pre>LogisticRegression(random_state=0)</pre><b>In a Jupyter environment, please rerun this cell to show the HTML representation or trust the notebook. <br />On GitHub, the HTML representation is unable to render, please try loading this page with nbviewer.org.</b></div><div class=\"sk-container\" hidden><div class=\"sk-item\"><div class=\"sk-estimator sk-toggleable\"><input class=\"sk-toggleable__control sk-hidden--visually\" id=\"sk-estimator-id-1\" type=\"checkbox\" checked><label for=\"sk-estimator-id-1\" class=\"sk-toggleable__label sk-toggleable__label-arrow\">LogisticRegression</label><div class=\"sk-toggleable__content\"><pre>LogisticRegression(random_state=0)</pre></div></div></div></div></div>"
      ],
      "text/plain": [
       "LogisticRegression(random_state=0)"
      ]
     },
     "execution_count": 20,
     "metadata": {},
     "output_type": "execute_result"
    }
   ],
   "source": [
    "from sklearn.linear_model import LogisticRegression\n",
    "Mod= LogisticRegression(random_state = 0)\n",
    "Mod.fit(X_train, Y_train)"
   ]
  },
  {
   "cell_type": "markdown",
   "id": "af87f0d9",
   "metadata": {},
   "source": [
    "Also, the Mod is the object we used for storing the logical regression model.\n",
    "\n",
    "Here we will now be able to predict the survival by using the regression.\n",
    "\n",
    "For that we used \".predict()\" to do the prediction of X axis test and also to cross verify we did Y test as well."
   ]
  },
  {
   "cell_type": "code",
   "execution_count": 21,
   "id": "833e8280",
   "metadata": {},
   "outputs": [],
   "source": [
    "prediction= Mod.predict(X_test)"
   ]
  },
  {
   "cell_type": "markdown",
   "id": "9e440568",
   "metadata": {},
   "source": [
    "Here we used \".predict()\" method to get the prediction and passed the X test array.\n",
    "\n",
    "Which gives us the survival of all onboard passengers in terms of 0 and 1 where 1 means that the passenger survived."
   ]
  },
  {
   "cell_type": "code",
   "execution_count": 22,
   "id": "450cb5fd",
   "metadata": {},
   "outputs": [
    {
     "name": "stdout",
     "output_type": "stream",
     "text": [
      "[0 0 1 0 1 0 1 0 0 0 1 1 0 0 0 0 1 0 1 1 0 1 0 0 0 0 1 0 0 0 1 1 1 1 1 0 0\n",
      " 1 1 1 1 0 1 1 0 1 0 0 0 0 0 1 1 0 0 1 0 1 0 0 0 1 1 0 0 1 1 1 1 0 0 1 1 1\n",
      " 1 0 0 1 0 1 0 1 0 0 0 0 0 1 1 0 1 1 0 0 0 1 1 1 0 0 0 0 0 1 0 1 0 1 1 0 0\n",
      " 0 0 1 0 1 1 0 1 0 0 0 0 0 1 0]\n"
     ]
    }
   ],
   "source": [
    "print(Mod.predict(X_test))"
   ]
  },
  {
   "cell_type": "code",
   "execution_count": 23,
   "id": "8f49645d",
   "metadata": {},
   "outputs": [
    {
     "name": "stdout",
     "output_type": "stream",
     "text": [
      "360    0\n",
      "170    0\n",
      "224    1\n",
      "358    0\n",
      "309    1\n",
      "      ..\n",
      "81     0\n",
      "107    0\n",
      "366    0\n",
      "414    1\n",
      "297    0\n",
      "Name: Survived, Length: 126, dtype: int64\n"
     ]
    }
   ],
   "source": [
    "print(Y_test)"
   ]
  },
  {
   "cell_type": "markdown",
   "id": "cf62d274",
   "metadata": {},
   "source": [
    "For checking the prediction being true, we check for y test\n",
    "\n",
    "This ensures thatb we had the same result in x test as in y test.\n",
    "\n",
    "Altough these test caan be checked for accuracy and the predictions can be generated by confusion matrix which is byfar imported from sklearn for specifically predicting out the arrays"
   ]
  },
  {
   "cell_type": "code",
   "execution_count": 24,
   "id": "8dcf936d",
   "metadata": {},
   "outputs": [],
   "source": [
    "from sklearn.metrics import confusion_matrix"
   ]
  },
  {
   "cell_type": "code",
   "execution_count": 25,
   "id": "6145ff6f",
   "metadata": {},
   "outputs": [
    {
     "data": {
      "text/plain": [
       "array([[71,  0],\n",
       "       [ 0, 55]], dtype=int64)"
      ]
     },
     "execution_count": 25,
     "metadata": {},
     "output_type": "execute_result"
    }
   ],
   "source": [
    "confusion_matrix(Y_test, prediction)"
   ]
  },
  {
   "cell_type": "markdown",
   "id": "fbb1df24",
   "metadata": {},
   "source": [
    "This depicts that the difference of x and y test are in the following points.\n",
    "\n",
    "for example through the array obtained from confusion matrix we get to know that survival of passenger listed at 71 , 55 and so on are not currectly predicted."
   ]
  },
  {
   "cell_type": "markdown",
   "id": "04db3c43",
   "metadata": {},
   "source": [
    "# Accuracy check\n",
    "This Block is used for checking the accuracy of Y test which gives the accuracy of model in predicting the survival.\n",
    "\n",
    "Above we even had the list of whole survived passengers in (0,1) format but that can not be used for predicting each as a whole.\n",
    "\n",
    "So as to find the Model relevance we had the accuracy score which can be easily imported from sklearn and can be used for the same"
   ]
  },
  {
   "cell_type": "code",
   "execution_count": 26,
   "id": "3dde3620",
   "metadata": {},
   "outputs": [],
   "source": [
    "from sklearn.metrics import accuracy_score"
   ]
  },
  {
   "cell_type": "code",
   "execution_count": 27,
   "id": "7b89d99b",
   "metadata": {},
   "outputs": [
    {
     "data": {
      "text/plain": [
       "1.0"
      ]
     },
     "execution_count": 27,
     "metadata": {},
     "output_type": "execute_result"
    }
   ],
   "source": [
    "accuracy_score(Y_test, prediction)"
   ]
  },
  {
   "cell_type": "markdown",
   "id": "1439ff20",
   "metadata": {},
   "source": [
    "This model is acurate by 1.0 this means for a data set it would give correct prediction for 100 out of 100 times for sure.\n",
    "\n",
    "This means the accuracy is more 100% for this model.\n",
    "\n",
    "This implies that the model is in best of its state and also depends on the training and testing data "
   ]
  },
  {
   "cell_type": "markdown",
   "id": "266cbdd3",
   "metadata": {},
   "source": [
    "## Evalution\n",
    "We can check precision by using classification report.\n",
    "\n",
    "It is a visualiser which displays the scores of different criteria to check the prediction accuracy of the model and works as a performance evaluation metric.\n",
    "\n",
    "It is used to measure the quality of predictions from a classification algorithm.\n",
    "\n",
    "Here we can use the prediction of Y test to get a detailed report consisting of recall rate, precision and f1- score."
   ]
  },
  {
   "cell_type": "code",
   "execution_count": 28,
   "id": "1b780e1c",
   "metadata": {},
   "outputs": [],
   "source": [
    "from sklearn.metrics import classification_report"
   ]
  },
  {
   "cell_type": "code",
   "execution_count": 29,
   "id": "698981ea",
   "metadata": {},
   "outputs": [
    {
     "name": "stdout",
     "output_type": "stream",
     "text": [
      "              precision    recall  f1-score   support\n",
      "\n",
      "           0       1.00      1.00      1.00        71\n",
      "           1       1.00      1.00      1.00        55\n",
      "\n",
      "    accuracy                           1.00       126\n",
      "   macro avg       1.00      1.00      1.00       126\n",
      "weighted avg       1.00      1.00      1.00       126\n",
      "\n"
     ]
    }
   ],
   "source": [
    "print(classification_report(Y_test,prediction))"
   ]
  },
  {
   "cell_type": "markdown",
   "id": "4e56de94",
   "metadata": {},
   "source": [
    "### Classification report\n",
    "This summarizes the quality of classification and accuracy of the model being constructed. The listed classification holds the value on the below defined defination.\n",
    "\n",
    "Precision: It is calculated with respect to the predicted values.\n",
    "\n",
    "Recall: It is calculated with respect to the actual values in dataset.\n",
    "\n",
    "F1-score: It is the harmonic mean of precision and recall.\n",
    "\n",
    "Support: It is the total entries of each class in the actual dataset."
   ]
  },
  {
   "cell_type": "markdown",
   "id": "91fbf8f2",
   "metadata": {},
   "source": [
    "## Conclusion and Understandings\n",
    "The above model made us understand that we can be reliable on this model for predicting the survival ofr passengers for this specific data as here only female survives. Also the accuracy is 100% which is because of the type of data we are provided with.\n",
    "\n",
    "While making this model, we get to know and understand about the dataset on which we were working and found some interesting insights and observations."
   ]
  },
  {
   "cell_type": "markdown",
   "id": "2a323983",
   "metadata": {},
   "source": [
    "###### The observations are as follows:\n",
    "The surviving passengers were overall consist of only women and there were 152 women onboard.\n",
    "\n",
    "The surving passengers mostly belonged to the class 3 that means there were mostly people who bought tickets for class 3.\n",
    "\n",
    "The evacuation process focussed more on the women and children as all the casualties were 266 men.\n",
    "\n",
    "The most passengers lost their lives belongs to class 3 that means the people tends to belonging to economical class were ignored in comparison to other upper class.\n",
    "\n",
    "The next observation is that most people present on that incidence were belonging from the age group of 20 to 30 years."
   ]
  },
  {
   "cell_type": "code",
   "execution_count": null,
   "id": "2e60e622",
   "metadata": {},
   "outputs": [],
   "source": []
  }
 ],
 "metadata": {
  "kernelspec": {
   "display_name": "Python 3 (ipykernel)",
   "language": "python",
   "name": "python3"
  },
  "language_info": {
   "codemirror_mode": {
    "name": "ipython",
    "version": 3
   },
   "file_extension": ".py",
   "mimetype": "text/x-python",
   "name": "python",
   "nbconvert_exporter": "python",
   "pygments_lexer": "ipython3",
   "version": "3.11.4"
  }
 },
 "nbformat": 4,
 "nbformat_minor": 5
}
